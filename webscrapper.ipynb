{
 "cells": [
  {
   "cell_type": "code",
   "execution_count": 1,
   "metadata": {},
   "outputs": [],
   "source": [
    "import requests\n",
    "from urllib.request import urlopen as ureq\n",
    "import logging\n",
    "from bs4 import BeautifulSoup as bs"
   ]
  },
  {
   "cell_type": "code",
   "execution_count": 2,
   "metadata": {},
   "outputs": [],
   "source": [
    "flipkartURL = \"https://www.flipkart.com/search?q=MacBook\""
   ]
  },
  {
   "cell_type": "code",
   "execution_count": 3,
   "metadata": {},
   "outputs": [],
   "source": [
    "client = ureq(flipkartURL)\n",
    "page = client.read()\n",
    "\n",
    "flipkartHTML = bs(page, 'html.parser')\n",
    "BigBox = flipkartHTML.findAll(\"div\", {\"class\": \"_1AtVbE col-12-12\"})"
   ]
  },
  {
   "cell_type": "code",
   "execution_count": 4,
   "metadata": {},
   "outputs": [],
   "source": [
    "del BigBox[0:3]"
   ]
  },
  {
   "cell_type": "code",
   "execution_count": 7,
   "metadata": {},
   "outputs": [],
   "source": [
    "product = \"https://www.flipkart.com\" + BigBox[2].div.div.div.a['href']"
   ]
  },
  {
   "cell_type": "code",
   "execution_count": 8,
   "metadata": {},
   "outputs": [],
   "source": [
    "productReq = requests.get(product)"
   ]
  },
  {
   "cell_type": "code",
   "execution_count": 9,
   "metadata": {},
   "outputs": [],
   "source": [
    "prodHTML = bs(productReq.text, 'html.parser')"
   ]
  },
  {
   "cell_type": "code",
   "execution_count": null,
   "metadata": {},
   "outputs": [],
   "source": [
    "prodHTML.find_all"
   ]
  },
  {
   "cell_type": "code",
   "execution_count": null,
   "metadata": {},
   "outputs": [],
   "source": []
  },
  {
   "cell_type": "code",
   "execution_count": 6,
   "metadata": {},
   "outputs": [
    {
     "name": "stdout",
     "output_type": "stream",
     "text": [
      "https://www.flipkart.com/apple-2020-macbook-air-m1-8-gb-256-gb-ssd-mac-os-big-sur-mgn93hn-a/p/itmb53580bb51a7e?pid=COMFXEKMXWUMGPHW&lid=LSTCOMFXEKMXWUMGPHWKF7Y8O&marketplace=FLIPKART&q=MacBook&store=6bo%2Fb5g&srno=s_1_2&otracker=search&fm=organic&iid=247bb0ad-df15-4fa9-919c-dd0bdd6e426b.COMFXEKMXWUMGPHW.SEARCH&ppt=None&ppn=None&ssid=g8d8dj7m340000001690293834864&qH=b11e916364096c88\n",
      "https://www.flipkart.com/apple-2020-macbook-air-m1-8-gb-256-gb-ssd-mac-os-big-sur-mgnd3hn-a/p/itma8a9681af6907?pid=COMFXEKM3S5BFS2G&lid=LSTCOMFXEKM3S5BFS2G8WU56Q&marketplace=FLIPKART&q=MacBook&store=6bo%2Fb5g&srno=s_1_3&otracker=search&fm=organic&iid=247bb0ad-df15-4fa9-919c-dd0bdd6e426b.COMFXEKM3S5BFS2G.SEARCH&ppt=None&ppn=None&ssid=g8d8dj7m340000001690293834864&qH=b11e916364096c88\n",
      "https://www.flipkart.com/apple-2020-macbook-air-m1-8-gb-512-gb-ssd-mac-os-big-sur-mgne3hn-a/p/itm42b58d659c133?pid=COMFXEKMT6ZFJKHG&lid=LSTCOMFXEKMT6ZFJKHG2RSIBV&marketplace=FLIPKART&q=MacBook&store=6bo%2Fb5g&srno=s_1_4&otracker=search&fm=organic&iid=247bb0ad-df15-4fa9-919c-dd0bdd6e426b.COMFXEKMT6ZFJKHG.SEARCH&ppt=None&ppn=None&ssid=g8d8dj7m340000001690293834864&qH=b11e916364096c88\n",
      "https://www.flipkart.com/apple-2022-macbook-air-m2-8-gb-256-gb-ssd-mac-os-monterey-mly33hn-a/p/itm48f8f11263927?pid=COMGFB2GMCRXZG85&lid=LSTCOMGFB2GMCRXZG859PGKWX&marketplace=FLIPKART&q=MacBook&store=6bo%2Fb5g&srno=s_1_5&otracker=search&fm=organic&iid=247bb0ad-df15-4fa9-919c-dd0bdd6e426b.COMGFB2GMCRXZG85.SEARCH&ppt=None&ppn=None&ssid=g8d8dj7m340000001690293834864&qH=b11e916364096c88\n",
      "https://www.flipkart.com/apple-2022-macbook-air-m2-8-gb-256-gb-ssd-mac-os-monterey-mly13hn-a/p/itmc4339d2e58810?pid=COMGFB2GBKDVYBDD&lid=LSTCOMGFB2GBKDVYBDDLKF8WC&marketplace=FLIPKART&q=MacBook&store=6bo%2Fb5g&srno=s_1_6&otracker=search&fm=organic&iid=247bb0ad-df15-4fa9-919c-dd0bdd6e426b.COMGFB2GBKDVYBDD.SEARCH&ppt=None&ppn=None&ssid=g8d8dj7m340000001690293834864&qH=b11e916364096c88\n",
      "https://www.flipkart.com/apple-2023-macbook-pro-m2-max-32-gb-1-tb-ssd-macos-ventura-mphk3hn-a/p/itm385ad930806dc?pid=COMGHZGHR5HHXJSA&lid=LSTCOMGHZGHR5HHXJSAAUIEML&marketplace=FLIPKART&q=MacBook&store=6bo%2Fb5g&srno=s_1_7&otracker=search&fm=organic&iid=247bb0ad-df15-4fa9-919c-dd0bdd6e426b.COMGHZGHR5HHXJSA.SEARCH&ppt=None&ppn=None&ssid=g8d8dj7m340000001690293834864&qH=b11e916364096c88\n",
      "https://www.flipkart.com/apple-2022-macbook-pro-m2-8-gb-512-gb-ssd-mac-os-monterey-mnej3hn-a/p/itm16d048c105239?pid=COMGFB2GHYYUVJGF&lid=LSTCOMGFB2GHYYUVJGFISMUCW&marketplace=FLIPKART&q=MacBook&store=6bo%2Fb5g&srno=s_1_8&otracker=search&fm=organic&iid=247bb0ad-df15-4fa9-919c-dd0bdd6e426b.COMGFB2GHYYUVJGF.SEARCH&ppt=None&ppn=None&ssid=g8d8dj7m340000001690293834864&qH=b11e916364096c88\n",
      "https://www.flipkart.com/apple-2022-macbook-air-m2-8-gb-256-gb-ssd-mac-os-monterey-mlxy3hn-a/p/itmacb15404dd528?pid=COMGFB2GWHPVFMJW&lid=LSTCOMGFB2GWHPVFMJWKVXDUX&marketplace=FLIPKART&q=MacBook&store=6bo%2Fb5g&srno=s_1_9&otracker=search&fm=organic&iid=247bb0ad-df15-4fa9-919c-dd0bdd6e426b.COMGFB2GWHPVFMJW.SEARCH&ppt=None&ppn=None&ssid=g8d8dj7m340000001690293834864&qH=b11e916364096c88\n",
      "https://www.flipkart.com/apple-macbook-air-m1-16-gb-256-gb-ssd-mac-os-big-sur-z124j001kd/p/itm99fb41e01ea8a?pid=COMG9UD4KTCKZ8GU&lid=LSTCOMG9UD4KTCKZ8GUNYJRSI&marketplace=FLIPKART&q=MacBook&store=6bo%2Fb5g&srno=s_1_10&otracker=search&fm=organic&iid=247bb0ad-df15-4fa9-919c-dd0bdd6e426b.COMG9UD4KTCKZ8GU.SEARCH&ppt=None&ppn=None&ssid=g8d8dj7m340000001690293834864&qH=b11e916364096c88\n",
      "https://www.flipkart.com/apple-macbook-air-m1-16-gb-256-gb-ssd-mac-os-big-sur-z124j005kd/p/itm5feb8febbc5d9?pid=COMG9UD4UN2ZZGDM&lid=LSTCOMG9UD4UN2ZZGDMXEQ7OR&marketplace=FLIPKART&q=MacBook&store=6bo%2Fb5g&srno=s_1_11&otracker=search&fm=organic&iid=247bb0ad-df15-4fa9-919c-dd0bdd6e426b.COMG9UD4UN2ZZGDM.SEARCH&ppt=None&ppn=None&ssid=g8d8dj7m340000001690293834864&qH=b11e916364096c88\n",
      "https://www.flipkart.com/apple-2023-macbook-pro-m2-16-gb-1-tb-ssd-macos-ventura-mphf3hn-a/p/itmc160921b45f9f?pid=COMGHZGH32RFFMVZ&lid=LSTCOMGHZGH32RFFMVZJS5VXR&marketplace=FLIPKART&q=MacBook&store=6bo%2Fb5g&srno=s_1_12&otracker=search&fm=organic&iid=247bb0ad-df15-4fa9-919c-dd0bdd6e426b.COMGHZGH32RFFMVZ.SEARCH&ppt=None&ppn=None&ssid=g8d8dj7m340000001690293834864&qH=b11e916364096c88\n",
      "https://www.flipkart.com/apple-2022-macbook-pro-m2-8-gb-512-gb-ssd-mac-os-monterey-mneq3hn-a/p/itm4bc8d80e185ea?pid=COMGFB2G5PP2KVXP&lid=LSTCOMGFB2G5PP2KVXPVYUUZD&marketplace=FLIPKART&q=MacBook&store=6bo%2Fb5g&srno=s_1_13&otracker=search&fm=organic&iid=247bb0ad-df15-4fa9-919c-dd0bdd6e426b.COMGFB2G5PP2KVXP.SEARCH&ppt=None&ppn=None&ssid=g8d8dj7m340000001690293834864&qH=b11e916364096c88\n",
      "https://www.flipkart.com/apple-2021-macbook-pro-m1-max-32-gb-1-tb-ssd-mac-os-monterey-mk1a3hn-a/p/itm00aac391057cc?pid=COMG7X7HZUE3M2HP&lid=LSTCOMG7X7HZUE3M2HPIKXYJ8&marketplace=FLIPKART&q=MacBook&store=6bo%2Fb5g&srno=s_1_14&otracker=search&fm=organic&iid=247bb0ad-df15-4fa9-919c-dd0bdd6e426b.COMG7X7HZUE3M2HP.SEARCH&ppt=None&ppn=None&ssid=g8d8dj7m340000001690293834864&qH=b11e916364096c88\n",
      "https://www.flipkart.com/apple-2022-macbook-air-m2-8-gb-512-gb-ssd-mac-os-monterey-mly03hn-a/p/itmc40ba1d98a816?pid=COMGFB2GTM7MMJYN&lid=LSTCOMGFB2GTM7MMJYNIHQHMG&marketplace=FLIPKART&q=MacBook&store=6bo%2Fb5g&srno=s_1_15&otracker=search&fm=organic&iid=247bb0ad-df15-4fa9-919c-dd0bdd6e426b.COMGFB2GTM7MMJYN.SEARCH&ppt=None&ppn=None&ssid=g8d8dj7m340000001690293834864&qH=b11e916364096c88\n",
      "https://www.flipkart.com/apple-2022-macbook-pro-m2-8-gb-256-gb-ssd-mac-os-monterey-mneh3hn-a/p/itmaea892f7dd66e?pid=COMGFB2GHCBHUDTZ&lid=LSTCOMGFB2GHCBHUDTZMVC2QE&marketplace=FLIPKART&q=MacBook&store=6bo%2Fb5g&srno=s_1_16&otracker=search&fm=organic&iid=247bb0ad-df15-4fa9-919c-dd0bdd6e426b.COMGFB2GHCBHUDTZ.SEARCH&ppt=None&ppn=None&ssid=g8d8dj7m340000001690293834864&qH=b11e916364096c88\n",
      "https://www.flipkart.com/apple-2021-macbook-pro-m1-16-gb-1-tb-ssd-mac-os-monterey-mkgt3hn-a/p/itm533a202480447?pid=COMG7X7HHRHGNUBJ&lid=LSTCOMG7X7HHRHGNUBJA3QKW8&marketplace=FLIPKART&q=MacBook&store=6bo%2Fb5g&srno=s_1_17&otracker=search&fm=organic&iid=247bb0ad-df15-4fa9-919c-dd0bdd6e426b.COMG7X7HHRHGNUBJ.SEARCH&ppt=None&ppn=None&ssid=g8d8dj7m340000001690293834864&qH=b11e916364096c88\n",
      "https://www.flipkart.com/apple-2023-macbook-pro-m2-16-gb-1-tb-ssd-macos-ventura-mphj3hn-a/p/itmbc757cd228830?pid=COMGHZGHAVG4BKU5&lid=LSTCOMGHZGHAVG4BKU529WVHB&marketplace=FLIPKART&q=MacBook&store=6bo%2Fb5g&srno=s_1_18&otracker=search&fm=organic&iid=247bb0ad-df15-4fa9-919c-dd0bdd6e426b.COMGHZGHAVG4BKU5.SEARCH&ppt=None&ppn=None&ssid=g8d8dj7m340000001690293834864&qH=b11e916364096c88\n",
      "https://www.flipkart.com/apple-2023-macbook-pro-m2-16-gb-512-gb-ssd-macos-ventura-mnwc3hn-a/p/itm5a9cef4005d9a?pid=COMGHZGHTFSE2WJZ&lid=LSTCOMGHZGHTFSE2WJZTREOKD&marketplace=FLIPKART&q=MacBook&store=6bo%2Fb5g&srno=s_1_19&otracker=search&fm=organic&iid=247bb0ad-df15-4fa9-919c-dd0bdd6e426b.COMGHZGHTFSE2WJZ.SEARCH&ppt=None&ppn=None&ssid=g8d8dj7m340000001690293834864&qH=b11e916364096c88\n",
      "https://www.flipkart.com/apple-2022-macbook-air-m2-8-gb-512-gb-ssd-mac-os-monterey-mly23hn-a/p/itm208f499e26dc2?pid=COMGFB2GQPT52CK3&lid=LSTCOMGFB2GQPT52CK37FYXJM&marketplace=FLIPKART&q=MacBook&store=6bo%2Fb5g&srno=s_1_20&otracker=search&fm=organic&iid=247bb0ad-df15-4fa9-919c-dd0bdd6e426b.COMGFB2GQPT52CK3.SEARCH&ppt=None&ppn=None&ssid=g8d8dj7m340000001690293834864&qH=b11e916364096c88\n",
      "https://www.flipkart.com/apple-macbook-air-2023-m2-8-gb-256-gb-ssd-macos-ventura-mqkw3hn-a/p/itm52eff32b36cff?pid=COMGQA2VNERMJMDD&lid=LSTCOMGQA2VNERMJMDDOYHWFF&marketplace=FLIPKART&q=MacBook&store=6bo%2Fb5g&srno=s_1_21&otracker=search&fm=organic&iid=247bb0ad-df15-4fa9-919c-dd0bdd6e426b.COMGQA2VNERMJMDD.SEARCH&ppt=None&ppn=None&ssid=g8d8dj7m340000001690293834864&qH=b11e916364096c88\n",
      "https://www.flipkart.com/apple-2021-macbook-pro-m1-16-gb-1-tb-ssd-mac-os-monterey-mkgq3hn-a/p/itmd3d13e8e4c5f7?pid=COMG7X7HX4NNCVEN&lid=LSTCOMG7X7HX4NNCVENIJOXDZ&marketplace=FLIPKART&q=MacBook&store=6bo%2Fb5g&srno=s_1_22&otracker=search&fm=organic&iid=247bb0ad-df15-4fa9-919c-dd0bdd6e426b.COMG7X7HX4NNCVEN.SEARCH&ppt=None&ppn=None&ssid=g8d8dj7m340000001690293834864&qH=b11e916364096c88\n",
      "https://www.flipkart.com/apple-2022-macbook-air-m2-8-gb-512-gb-ssd-mac-os-monterey-mly43hn-a/p/itm14cf121550d1a?pid=COMGFB2GDBDYXF9D&lid=LSTCOMGFB2GDBDYXF9DPTKNCZ&marketplace=FLIPKART&q=MacBook&store=6bo%2Fb5g&srno=s_1_23&otracker=search&fm=organic&iid=247bb0ad-df15-4fa9-919c-dd0bdd6e426b.COMGFB2GDBDYXF9D.SEARCH&ppt=None&ppn=None&ssid=g8d8dj7m340000001690293834864&qH=b11e916364096c88\n",
      "https://www.flipkart.com/apple-2022-macbook-air-m2-8-gb-512-gb-ssd-mac-os-monterey-mlxx3hn-a/p/itmbef05758d133c?pid=COMGFB2GNWNN9DN8&lid=LSTCOMGFB2GNWNN9DN8OLT676&marketplace=FLIPKART&q=MacBook&store=6bo%2Fb5g&srno=s_1_24&otracker=search&fm=organic&iid=247bb0ad-df15-4fa9-919c-dd0bdd6e426b.COMGFB2GNWNN9DN8.SEARCH&ppt=None&ppn=None&ssid=g8d8dj7m340000001690293834864&qH=b11e916364096c88\n"
     ]
    },
    {
     "ename": "AttributeError",
     "evalue": "'NoneType' object has no attribute 'a'",
     "output_type": "error",
     "traceback": [
      "\u001b[1;31m---------------------------------------------------------------------------\u001b[0m",
      "\u001b[1;31mAttributeError\u001b[0m                            Traceback (most recent call last)",
      "Cell \u001b[1;32mIn[6], line 2\u001b[0m\n\u001b[0;32m      1\u001b[0m \u001b[39mfor\u001b[39;00m i \u001b[39min\u001b[39;00m BigBox:\n\u001b[1;32m----> 2\u001b[0m     \u001b[39mprint\u001b[39m(\u001b[39m\"\u001b[39m\u001b[39mhttps://www.flipkart.com\u001b[39m\u001b[39m\"\u001b[39m \u001b[39m+\u001b[39m i\u001b[39m.\u001b[39;49mdiv\u001b[39m.\u001b[39;49mdiv\u001b[39m.\u001b[39;49mdiv\u001b[39m.\u001b[39;49ma[\u001b[39m'\u001b[39m\u001b[39mhref\u001b[39m\u001b[39m'\u001b[39m])\n",
      "\u001b[1;31mAttributeError\u001b[0m: 'NoneType' object has no attribute 'a'"
     ]
    }
   ],
   "source": [
    "for i in BigBox:\n",
    "    print(\"https://www.flipkart.com\" + i.div.div.div.a['href'])"
   ]
  },
  {
   "cell_type": "code",
   "execution_count": null,
   "metadata": {},
   "outputs": [],
   "source": []
  }
 ],
 "metadata": {
  "kernelspec": {
   "display_name": "venv",
   "language": "python",
   "name": "python3"
  },
  "language_info": {
   "codemirror_mode": {
    "name": "ipython",
    "version": 3
   },
   "file_extension": ".py",
   "mimetype": "text/x-python",
   "name": "python",
   "nbconvert_exporter": "python",
   "pygments_lexer": "ipython3",
   "version": "3.11.0"
  },
  "orig_nbformat": 4
 },
 "nbformat": 4,
 "nbformat_minor": 2
}
